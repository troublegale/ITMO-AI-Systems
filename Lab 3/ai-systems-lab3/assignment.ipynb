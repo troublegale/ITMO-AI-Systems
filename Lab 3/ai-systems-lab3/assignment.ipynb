{
 "cells": [
  {
   "cell_type": "code",
   "id": "initial_id",
   "metadata": {
    "collapsed": true,
    "ExecuteTime": {
     "end_time": "2024-11-12T21:02:56.000229Z",
     "start_time": "2024-11-12T21:02:55.995177Z"
    }
   },
   "source": [
    "import pandas as pd\n",
    "import numpy as np\n",
    "from math import log\n",
    "import matplotlib.pyplot as plt"
   ],
   "outputs": [],
   "execution_count": 125
  },
  {
   "metadata": {
    "ExecuteTime": {
     "end_time": "2024-11-12T21:02:57.041337Z",
     "start_time": "2024-11-12T21:02:57.030300Z"
    }
   },
   "cell_type": "code",
   "source": [
    "# чтение датасета из файла\n",
    "data = pd.read_csv(\"resources/student_performance.csv\")"
   ],
   "id": "4c56b90c6c798ee",
   "outputs": [],
   "execution_count": 126
  },
  {
   "metadata": {
    "ExecuteTime": {
     "end_time": "2024-11-12T21:02:58.137182Z",
     "start_time": "2024-11-12T21:02:58.127605Z"
    }
   },
   "cell_type": "code",
   "source": [
    "# показать первые 5 строк\n",
    "data.head()"
   ],
   "id": "86d1bd38ef42f9e",
   "outputs": [
    {
     "data": {
      "text/plain": [
       "   hours_studied  previous_scores extracurricular_activities  sleep_hours  \\\n",
       "0              7               99                        Yes            9   \n",
       "1              4               82                         No            4   \n",
       "2              8               51                        Yes            7   \n",
       "3              5               52                        Yes            5   \n",
       "4              7               75                         No            8   \n",
       "\n",
       "   sample_question_papers_predicted  performance_index  \n",
       "0                                 1               91.0  \n",
       "1                                 2               65.0  \n",
       "2                                 2               45.0  \n",
       "3                                 2               36.0  \n",
       "4                                 5               66.0  "
      ],
      "text/html": [
       "<div>\n",
       "<style scoped>\n",
       "    .dataframe tbody tr th:only-of-type {\n",
       "        vertical-align: middle;\n",
       "    }\n",
       "\n",
       "    .dataframe tbody tr th {\n",
       "        vertical-align: top;\n",
       "    }\n",
       "\n",
       "    .dataframe thead th {\n",
       "        text-align: right;\n",
       "    }\n",
       "</style>\n",
       "<table border=\"1\" class=\"dataframe\">\n",
       "  <thead>\n",
       "    <tr style=\"text-align: right;\">\n",
       "      <th></th>\n",
       "      <th>hours_studied</th>\n",
       "      <th>previous_scores</th>\n",
       "      <th>extracurricular_activities</th>\n",
       "      <th>sleep_hours</th>\n",
       "      <th>sample_question_papers_predicted</th>\n",
       "      <th>performance_index</th>\n",
       "    </tr>\n",
       "  </thead>\n",
       "  <tbody>\n",
       "    <tr>\n",
       "      <th>0</th>\n",
       "      <td>7</td>\n",
       "      <td>99</td>\n",
       "      <td>Yes</td>\n",
       "      <td>9</td>\n",
       "      <td>1</td>\n",
       "      <td>91.0</td>\n",
       "    </tr>\n",
       "    <tr>\n",
       "      <th>1</th>\n",
       "      <td>4</td>\n",
       "      <td>82</td>\n",
       "      <td>No</td>\n",
       "      <td>4</td>\n",
       "      <td>2</td>\n",
       "      <td>65.0</td>\n",
       "    </tr>\n",
       "    <tr>\n",
       "      <th>2</th>\n",
       "      <td>8</td>\n",
       "      <td>51</td>\n",
       "      <td>Yes</td>\n",
       "      <td>7</td>\n",
       "      <td>2</td>\n",
       "      <td>45.0</td>\n",
       "    </tr>\n",
       "    <tr>\n",
       "      <th>3</th>\n",
       "      <td>5</td>\n",
       "      <td>52</td>\n",
       "      <td>Yes</td>\n",
       "      <td>5</td>\n",
       "      <td>2</td>\n",
       "      <td>36.0</td>\n",
       "    </tr>\n",
       "    <tr>\n",
       "      <th>4</th>\n",
       "      <td>7</td>\n",
       "      <td>75</td>\n",
       "      <td>No</td>\n",
       "      <td>8</td>\n",
       "      <td>5</td>\n",
       "      <td>66.0</td>\n",
       "    </tr>\n",
       "  </tbody>\n",
       "</table>\n",
       "</div>"
      ]
     },
     "execution_count": 127,
     "metadata": {},
     "output_type": "execute_result"
    }
   ],
   "execution_count": 127
  },
  {
   "metadata": {
    "ExecuteTime": {
     "end_time": "2024-11-12T21:03:00.103718Z",
     "start_time": "2024-11-12T21:03:00.097721Z"
    }
   },
   "cell_type": "code",
   "source": [
    "# extracurricular_activities необходимо привести к числовому виду\n",
    "data['extracurricular_activities'] = data['extracurricular_activities'].map({'Yes': 1, 'No': 0})"
   ],
   "id": "f93e970f5a2f5b7e",
   "outputs": [],
   "execution_count": 128
  },
  {
   "metadata": {
    "ExecuteTime": {
     "end_time": "2024-11-12T21:03:01.325540Z",
     "start_time": "2024-11-12T21:03:01.313958Z"
    }
   },
   "cell_type": "code",
   "source": [
    "# показать информацию о датасете\n",
    "data.info()"
   ],
   "id": "7045fc95ec6aeb40",
   "outputs": [
    {
     "name": "stdout",
     "output_type": "stream",
     "text": [
      "<class 'pandas.core.frame.DataFrame'>\n",
      "RangeIndex: 10000 entries, 0 to 9999\n",
      "Data columns (total 6 columns):\n",
      " #   Column                            Non-Null Count  Dtype  \n",
      "---  ------                            --------------  -----  \n",
      " 0   hours_studied                     10000 non-null  int64  \n",
      " 1   previous_scores                   10000 non-null  int64  \n",
      " 2   extracurricular_activities        10000 non-null  int64  \n",
      " 3   sleep_hours                       10000 non-null  int64  \n",
      " 4   sample_question_papers_predicted  10000 non-null  int64  \n",
      " 5   performance_index                 10000 non-null  float64\n",
      "dtypes: float64(1), int64(5)\n",
      "memory usage: 468.9 KB\n"
     ]
    }
   ],
   "execution_count": 129
  },
  {
   "metadata": {},
   "cell_type": "markdown",
   "source": "Пустых значений нет.",
   "id": "852d4a36c66eb7f5"
  },
  {
   "metadata": {
    "ExecuteTime": {
     "end_time": "2024-11-12T21:03:04.027206Z",
     "start_time": "2024-11-12T21:03:04.005824Z"
    }
   },
   "cell_type": "code",
   "source": [
    "# получение статистики датасета (исключая колонку Extracurricular Activities)\n",
    "data.describe()"
   ],
   "id": "c640989673cf0ff4",
   "outputs": [
    {
     "data": {
      "text/plain": [
       "       hours_studied  previous_scores  extracurricular_activities  \\\n",
       "count   10000.000000     10000.000000                10000.000000   \n",
       "mean        4.992900        69.445700                    0.494800   \n",
       "std         2.589309        17.343152                    0.499998   \n",
       "min         1.000000        40.000000                    0.000000   \n",
       "25%         3.000000        54.000000                    0.000000   \n",
       "50%         5.000000        69.000000                    0.000000   \n",
       "75%         7.000000        85.000000                    1.000000   \n",
       "max         9.000000        99.000000                    1.000000   \n",
       "\n",
       "        sleep_hours  sample_question_papers_predicted  performance_index  \n",
       "count  10000.000000                      10000.000000       10000.000000  \n",
       "mean       6.530600                          4.583300          55.224800  \n",
       "std        1.695863                          2.867348          19.212558  \n",
       "min        4.000000                          0.000000          10.000000  \n",
       "25%        5.000000                          2.000000          40.000000  \n",
       "50%        7.000000                          5.000000          55.000000  \n",
       "75%        8.000000                          7.000000          71.000000  \n",
       "max        9.000000                          9.000000         100.000000  "
      ],
      "text/html": [
       "<div>\n",
       "<style scoped>\n",
       "    .dataframe tbody tr th:only-of-type {\n",
       "        vertical-align: middle;\n",
       "    }\n",
       "\n",
       "    .dataframe tbody tr th {\n",
       "        vertical-align: top;\n",
       "    }\n",
       "\n",
       "    .dataframe thead th {\n",
       "        text-align: right;\n",
       "    }\n",
       "</style>\n",
       "<table border=\"1\" class=\"dataframe\">\n",
       "  <thead>\n",
       "    <tr style=\"text-align: right;\">\n",
       "      <th></th>\n",
       "      <th>hours_studied</th>\n",
       "      <th>previous_scores</th>\n",
       "      <th>extracurricular_activities</th>\n",
       "      <th>sleep_hours</th>\n",
       "      <th>sample_question_papers_predicted</th>\n",
       "      <th>performance_index</th>\n",
       "    </tr>\n",
       "  </thead>\n",
       "  <tbody>\n",
       "    <tr>\n",
       "      <th>count</th>\n",
       "      <td>10000.000000</td>\n",
       "      <td>10000.000000</td>\n",
       "      <td>10000.000000</td>\n",
       "      <td>10000.000000</td>\n",
       "      <td>10000.000000</td>\n",
       "      <td>10000.000000</td>\n",
       "    </tr>\n",
       "    <tr>\n",
       "      <th>mean</th>\n",
       "      <td>4.992900</td>\n",
       "      <td>69.445700</td>\n",
       "      <td>0.494800</td>\n",
       "      <td>6.530600</td>\n",
       "      <td>4.583300</td>\n",
       "      <td>55.224800</td>\n",
       "    </tr>\n",
       "    <tr>\n",
       "      <th>std</th>\n",
       "      <td>2.589309</td>\n",
       "      <td>17.343152</td>\n",
       "      <td>0.499998</td>\n",
       "      <td>1.695863</td>\n",
       "      <td>2.867348</td>\n",
       "      <td>19.212558</td>\n",
       "    </tr>\n",
       "    <tr>\n",
       "      <th>min</th>\n",
       "      <td>1.000000</td>\n",
       "      <td>40.000000</td>\n",
       "      <td>0.000000</td>\n",
       "      <td>4.000000</td>\n",
       "      <td>0.000000</td>\n",
       "      <td>10.000000</td>\n",
       "    </tr>\n",
       "    <tr>\n",
       "      <th>25%</th>\n",
       "      <td>3.000000</td>\n",
       "      <td>54.000000</td>\n",
       "      <td>0.000000</td>\n",
       "      <td>5.000000</td>\n",
       "      <td>2.000000</td>\n",
       "      <td>40.000000</td>\n",
       "    </tr>\n",
       "    <tr>\n",
       "      <th>50%</th>\n",
       "      <td>5.000000</td>\n",
       "      <td>69.000000</td>\n",
       "      <td>0.000000</td>\n",
       "      <td>7.000000</td>\n",
       "      <td>5.000000</td>\n",
       "      <td>55.000000</td>\n",
       "    </tr>\n",
       "    <tr>\n",
       "      <th>75%</th>\n",
       "      <td>7.000000</td>\n",
       "      <td>85.000000</td>\n",
       "      <td>1.000000</td>\n",
       "      <td>8.000000</td>\n",
       "      <td>7.000000</td>\n",
       "      <td>71.000000</td>\n",
       "    </tr>\n",
       "    <tr>\n",
       "      <th>max</th>\n",
       "      <td>9.000000</td>\n",
       "      <td>99.000000</td>\n",
       "      <td>1.000000</td>\n",
       "      <td>9.000000</td>\n",
       "      <td>9.000000</td>\n",
       "      <td>100.000000</td>\n",
       "    </tr>\n",
       "  </tbody>\n",
       "</table>\n",
       "</div>"
      ]
     },
     "execution_count": 130,
     "metadata": {},
     "output_type": "execute_result"
    }
   ],
   "execution_count": 130
  },
  {
   "metadata": {},
   "cell_type": "markdown",
   "source": [
    "- count - количество элементов\n",
    "- mean - среднее значение\n",
    "- std - стандартное отклонение\n",
    "- min - минимальное значение\n",
    "- 25%/50%/75% - квантили\n",
    "- max - максимальное значение"
   ],
   "id": "c329fd9a9c114156"
  },
  {
   "metadata": {
    "ExecuteTime": {
     "end_time": "2024-11-12T21:03:06.161254Z",
     "start_time": "2024-11-12T21:03:06.156679Z"
    }
   },
   "cell_type": "code",
   "source": [
    "# отделение зависимой колонки\n",
    "X = data.drop(columns='performance_index')\n",
    "y = data['performance_index']"
   ],
   "id": "fda6fead9ae00326",
   "outputs": [],
   "execution_count": 131
  },
  {
   "metadata": {
    "ExecuteTime": {
     "end_time": "2024-11-12T21:03:07.081864Z",
     "start_time": "2024-11-12T21:03:07.070251Z"
    }
   },
   "cell_type": "code",
   "source": [
    "# получение параметров для построения графиков\n",
    "rows_count = X.shape[0]\n",
    "cols_count = X.shape[1]\n",
    "means = data.mean()\n",
    "corrected_dispersions = np.sum(np.power(data - means, 2), axis=0) / (rows_count - 1)\n",
    "standard_offsets = np.sqrt(corrected_dispersions)\n",
    "mins = data.min()\n",
    "maxs = data.max()"
   ],
   "id": "9b1e268572eeef59",
   "outputs": [],
   "execution_count": 132
  },
  {
   "metadata": {
    "ExecuteTime": {
     "end_time": "2024-11-12T21:03:08.963265Z",
     "start_time": "2024-11-12T21:03:08.142149Z"
    }
   },
   "cell_type": "code",
   "source": [
    "# построение графиков\n",
    "bins_count = 1 + int(log(rows_count, 2))\n",
    "data_from = X.join(y)\n",
    "titles = data_from.columns\n",
    "fig = plt.figure(figsize=(9, 9))\n",
    "\n",
    "for i, column in enumerate(titles):\n",
    "    ax = fig.add_subplot(3, 3, i + 1)\n",
    "    hist = ax.hist(data_from[column], bins=bins_count, edgecolor=\"black\")\n",
    "    ax.plot([means[i], means[i]], [0, np.max(hist[0])], color=\"red\")\n",
    "    ax.plot([means[i] - standard_offsets[i], means[i] - standard_offsets[i]], [0, np.max(hist[0])], color=\"orange\")\n",
    "    ax.plot([means[i] + standard_offsets[i], means[i] + standard_offsets[i]], [0, np.max(hist[0])], color=\"orange\")\n",
    "    ax.set_title(titles[i], fontsize=16)\n",
    "\n",
    "fig.tight_layout()\n",
    "plt.show()"
   ],
   "id": "e48b84c539db632d",
   "outputs": [
    {
     "name": "stderr",
     "output_type": "stream",
     "text": [
      "C:\\Users\\hopsb\\AppData\\Local\\Temp\\ipykernel_21208\\3921445674.py:10: FutureWarning: Series.__getitem__ treating keys as positions is deprecated. In a future version, integer keys will always be treated as labels (consistent with DataFrame behavior). To access a value by position, use `ser.iloc[pos]`\n",
      "  ax.plot([means[i], means[i]], [0, np.max(hist[0])], color=\"red\")\n",
      "C:\\Users\\hopsb\\AppData\\Local\\Temp\\ipykernel_21208\\3921445674.py:11: FutureWarning: Series.__getitem__ treating keys as positions is deprecated. In a future version, integer keys will always be treated as labels (consistent with DataFrame behavior). To access a value by position, use `ser.iloc[pos]`\n",
      "  ax.plot([means[i] - standard_offsets[i], means[i] - standard_offsets[i]], [0, np.max(hist[0])], color=\"orange\")\n",
      "C:\\Users\\hopsb\\AppData\\Local\\Temp\\ipykernel_21208\\3921445674.py:12: FutureWarning: Series.__getitem__ treating keys as positions is deprecated. In a future version, integer keys will always be treated as labels (consistent with DataFrame behavior). To access a value by position, use `ser.iloc[pos]`\n",
      "  ax.plot([means[i] + standard_offsets[i], means[i] + standard_offsets[i]], [0, np.max(hist[0])], color=\"orange\")\n"
     ]
    },
    {
     "data": {
      "text/plain": [
       "<Figure size 900x900 with 6 Axes>"
      ],
      "image/png": "[encoded data removed]"
     },
     "metadata": {},
     "output_type": "display_data"
    }
   ],
   "execution_count": 133
  },
  {
   "metadata": {
    "ExecuteTime": {
     "end_time": "2024-11-12T21:03:12.058745Z",
     "start_time": "2024-11-12T21:03:12.053769Z"
    }
   },
   "cell_type": "code",
   "source": [
    "# функция для нормирования датасета\n",
    "def normalize(df):\n",
    "    df_normal = df.copy()\n",
    "    for col in df.columns:\n",
    "        mean = df_normal[col].mean()\n",
    "        std = df_normal[col].std()\n",
    "        df_normal[col] = (df_normal[col] - mean) / std\n",
    "    return df_normal"
   ],
   "id": "7a8db1d45f16db40",
   "outputs": [],
   "execution_count": 134
  },
  {
   "metadata": {
    "ExecuteTime": {
     "end_time": "2024-11-12T21:03:13.222425Z",
     "start_time": "2024-11-12T21:03:13.216622Z"
    }
   },
   "cell_type": "code",
   "source": [
    "# функция для разделения датасета на обучающий и тестовый наборы данных\n",
    "def train_test_split(x, y):\n",
    "    split_index = int(0.75 * len(X))\n",
    "    x_train = x.iloc[:split_index].reset_index(drop=True)\n",
    "    x_test = x.iloc[split_index:].reset_index(drop=True)\n",
    "    y_train = y.iloc[:split_index].reset_index(drop=True)\n",
    "    y_test = y.iloc[split_index:].reset_index(drop=True)\n",
    "    return x_train, x_test, y_train, y_test"
   ],
   "id": "dadd1b77aa853f3c",
   "outputs": [],
   "execution_count": 135
  },
  {
   "metadata": {
    "ExecuteTime": {
     "end_time": "2024-11-12T21:03:14.418513Z",
     "start_time": "2024-11-12T21:03:14.407499Z"
    }
   },
   "cell_type": "code",
   "source": [
    "# нормировка и разделение на обучающие и тестовые данные\n",
    "data_normal = normalize(data)\n",
    "x = data_normal.drop(columns='performance_index')\n",
    "y = data_normal['performance_index']\n",
    "x_train, x_test, y_train, y_test = train_test_split(x, y)"
   ],
   "id": "716d10a228bec7ac",
   "outputs": [],
   "execution_count": 136
  },
  {
   "metadata": {
    "ExecuteTime": {
     "end_time": "2024-11-12T21:03:15.582241Z",
     "start_time": "2024-11-12T21:03:15.578069Z"
    }
   },
   "cell_type": "code",
   "source": [
    "# функция линейной регрессии\n",
    "def linear_regression(x, y):\n",
    "    x = np.c_[np.ones(x.shape[0]), x]\n",
    "    # (X.T * X)^(-1) * X.T * y\n",
    "    weights = np.linalg.inv(x.T.dot(x)).dot(x.T).dot(y)\n",
    "    bias = weights[0]\n",
    "    weights = weights[1:]\n",
    "    return weights, bias"
   ],
   "id": "1dd0014cfe4abb79",
   "outputs": [],
   "execution_count": 137
  },
  {
   "metadata": {
    "ExecuteTime": {
     "end_time": "2024-11-12T21:03:16.752508Z",
     "start_time": "2024-11-12T21:03:16.747403Z"
    }
   },
   "cell_type": "code",
   "source": [
    "# функция подсчёта коэффициента детерминации\n",
    "def determination(y_true, y_pred):\n",
    "    if len(y_true) > len(y_pred):\n",
    "        raise Exception(\"len(y_true) <= len(y_pred) expected\")\n",
    "    n = len(y_true)\n",
    "    mean = sum(y_true) / n\n",
    "    return 1 - sum([(y_true[i] - y_pred[i]) ** 2 for i in range(n)]) / sum([(y_true[i] - mean) ** 2 for i in range(n)])"
   ],
   "id": "94b95870873e3659",
   "outputs": [],
   "execution_count": 138
  },
  {
   "metadata": {
    "ExecuteTime": {
     "end_time": "2024-11-12T21:03:17.913799Z",
     "start_time": "2024-11-12T21:03:17.909341Z"
    }
   },
   "cell_type": "code",
   "source": [
    "# функция оценки модели\n",
    "def evaluate_model(weights, bias, x, y):\n",
    "    y_pred = np.dot(x, weights) + bias\n",
    "    det = determination(y, y_pred)\n",
    "    return det"
   ],
   "id": "374766e4beb61a7a",
   "outputs": [],
   "execution_count": 139
  },
  {
   "metadata": {
    "ExecuteTime": {
     "end_time": "2024-11-12T21:03:19.051296Z",
     "start_time": "2024-11-12T21:03:19.035877Z"
    }
   },
   "cell_type": "code",
   "source": [
    "# модель 1\n",
    "x_train_m1 = x_train.copy()\n",
    "x_test_m1 = x_test.copy()\n",
    "weights1, bias1 = linear_regression(x_train_m1.values, y_train.values)\n",
    "y_pred_m1 = np.dot(x_test_m1.values, weights1) + bias1\n",
    "det_m1 = evaluate_model(weights1, bias1, x_test_m1.values, y_test)\n",
    "print(f\"Коэф-т детерминации для Модели 1: {det_m1}\")"
   ],
   "id": "fd46b970f8d140f0",
   "outputs": [
    {
     "name": "stdout",
     "output_type": "stream",
     "text": [
      "Коэф-т детерминации для Модели 1: 0.9884692770540272\n"
     ]
    }
   ],
   "execution_count": 140
  },
  {
   "metadata": {
    "ExecuteTime": {
     "end_time": "2024-11-12T21:03:20.128667Z",
     "start_time": "2024-11-12T21:03:20.112035Z"
    }
   },
   "cell_type": "code",
   "source": [
    "# модель 2 (удалили параметр extracurricular_activities)\n",
    "x_train_m2 = x_train.copy().drop(columns='extracurricular_activities')\n",
    "x_test_m2 = x_test.copy().drop(columns='extracurricular_activities')\n",
    "weights2, bias2 = linear_regression(x_train_m2.values, y_train.values)\n",
    "y_pred_m2 = np.dot(x_test_m2.values, weights2) + bias2\n",
    "det_m2 = evaluate_model(weights2, bias2, x_test_m2.values, y_test)\n",
    "print(f\"Коэф-т детерминации для Модели 2: {det_m2}\")"
   ],
   "id": "34a93cb5a526bdd2",
   "outputs": [
    {
     "name": "stdout",
     "output_type": "stream",
     "text": [
      "Коэф-т детерминации для Модели 2: 0.9883270881966559\n"
     ]
    }
   ],
   "execution_count": 141
  },
  {
   "metadata": {
    "ExecuteTime": {
     "end_time": "2024-11-12T21:03:21.287771Z",
     "start_time": "2024-11-12T21:03:21.269024Z"
    }
   },
   "cell_type": "code",
   "source": [
    "# модель 3 (бонусное задание с синтаксическим признаком)\n",
    "x_train_m3 = x_train.copy()\n",
    "x_test_m3 = x_test.copy()\n",
    "# study_sleep_ratio - отношение параметров hours_studied и sleep_hours\n",
    "x_train_m3['study_sleep_ratio'] = x_train_m3['hours_studied'] / x_train_m3['sleep_hours']\n",
    "x_test_m3['study_sleep_ratio'] = x_test_m3['hours_studied'] / x_test_m3['sleep_hours']\n",
    "weights3, bias3 = linear_regression(x_train_m3.values, y_train.values)\n",
    "y_pred_m3 = np.dot(x_test_m3.values, weights3) + bias3\n",
    "det_m3 = evaluate_model(weights3, bias3, x_test_m3.values, y_test)\n",
    "print(f\"Коэф-т детерминации для Модели 3: {det_m3}\")"
   ],
   "id": "158d98b78c4dbd6c",
   "outputs": [
    {
     "name": "stdout",
     "output_type": "stream",
     "text": [
      "Коэф-т детерминации для Модели 3: 0.9884718729386256\n"
     ]
    }
   ],
   "execution_count": 142
  },
  {
   "metadata": {
    "ExecuteTime": {
     "end_time": "2024-11-12T21:03:22.910732Z",
     "start_time": "2024-11-12T21:03:22.904514Z"
    }
   },
   "cell_type": "code",
   "source": [
    "# вывод коэффициентов модели 1\n",
    "result1 = np.insert(weights1, 0, bias1)\n",
    "col_names1 = ['a', 'hours_studied', 'previous_scores', 'extracurricular_activities', 'sleep_hours', 'sample_question_papers_predicted']\n",
    "df1 = pd.DataFrame([result1], columns=col_names1)\n",
    "print(df1)"
   ],
   "id": "9d210a2f53ed1885",
   "outputs": [
    {
     "name": "stdout",
     "output_type": "stream",
     "text": [
      "          a  hours_studied  previous_scores  extracurricular_activities  \\\n",
      "0 -0.000922       0.384685         0.919327                    0.017035   \n",
      "\n",
      "   sleep_hours  sample_question_papers_predicted  \n",
      "0     0.041775                          0.028908  \n"
     ]
    }
   ],
   "execution_count": 143
  },
  {
   "metadata": {
    "ExecuteTime": {
     "end_time": "2024-11-12T21:03:24.388300Z",
     "start_time": "2024-11-12T21:03:24.381780Z"
    }
   },
   "cell_type": "code",
   "source": [
    "# вывод коэффициентов модели 2\n",
    "result2 = np.insert(weights2, 0, bias2)\n",
    "col_names2 = ['a', 'hours_studied', 'previous_scores', 'sleep_hours', 'sample_question_papers_predicted']\n",
    "df2 = pd.DataFrame([result2], columns=col_names2)\n",
    "print(df2)"
   ],
   "id": "31d32da932547773",
   "outputs": [
    {
     "name": "stdout",
     "output_type": "stream",
     "text": [
      "          a  hours_studied  previous_scores  sleep_hours  \\\n",
      "0 -0.001058       0.384718           0.9194     0.041591   \n",
      "\n",
      "   sample_question_papers_predicted  \n",
      "0                          0.029137  \n"
     ]
    }
   ],
   "execution_count": 144
  },
  {
   "metadata": {
    "ExecuteTime": {
     "end_time": "2024-11-12T21:03:25.473545Z",
     "start_time": "2024-11-12T21:03:25.466764Z"
    }
   },
   "cell_type": "code",
   "source": [
    "# вывод коэффициентов модели 3\n",
    "result3 = np.insert(weights3, 0, bias3)\n",
    "col_names3 = ['a', 'hours_studied', 'previous_scores', 'extracurricular_activities', 'sleep_hours', 'sample_question_papers_predicted', 'study_sleep_ratio']\n",
    "df3 = pd.DataFrame([result3], columns=col_names3)\n",
    "print(df3)"
   ],
   "id": "4b7da83fb7413af9",
   "outputs": [
    {
     "name": "stdout",
     "output_type": "stream",
     "text": [
      "          a  hours_studied  previous_scores  extracurricular_activities  \\\n",
      "0 -0.000922       0.384646          0.91933                    0.017037   \n",
      "\n",
      "   sleep_hours  sample_question_papers_predicted  study_sleep_ratio  \n",
      "0     0.041776                          0.028918            0.00028  \n"
     ]
    }
   ],
   "execution_count": 145
  }
 ],
 "metadata": {
  "kernelspec": {
   "display_name": "Python 3",
   "language": "python",
   "name": "python3"
  },
  "language_info": {
   "codemirror_mode": {
    "name": "ipython",
    "version": 2
   },
   "file_extension": ".py",
   "mimetype": "text/x-python",
   "name": "python",
   "nbconvert_exporter": "python",
   "pygments_lexer": "ipython2",
   "version": "2.7.6"
  }
 },
 "nbformat": 4,
 "nbformat_minor": 5
}
